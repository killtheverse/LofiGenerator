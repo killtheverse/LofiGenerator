{
  "nbformat": 4,
  "nbformat_minor": 0,
  "metadata": {
    "colab": {
      "name": "lofi_generator.ipynb",
      "provenance": []
    },
    "kernelspec": {
      "name": "python3",
      "display_name": "Python 3"
    },
    "accelerator": "TPU"
  },
  "cells": [
    {
      "cell_type": "code",
      "metadata": {
        "id": "9G6p6mlQzXar",
        "colab_type": "code",
        "colab": {
          "base_uri": "https://localhost:8080/",
          "height": 185
        },
        "outputId": "91cbf576-417a-445b-9f1e-dc6144385aff"
      },
      "source": [
        "!git clone https://github.com/nmtremblay/lofi-samples.git\n",
        "!pip install music21\n",
        "!pip install np_utils"
      ],
      "execution_count": 21,
      "outputs": [
        {
          "output_type": "stream",
          "text": [
            "fatal: destination path 'lofi-samples' already exists and is not an empty directory.\n",
            "Requirement already satisfied: music21 in /usr/local/lib/python3.6/dist-packages (5.5.0)\n",
            "Requirement already satisfied: np_utils in /usr/local/lib/python3.6/dist-packages (0.5.12.1)\n",
            "Requirement already satisfied: numpy>=1.0 in /usr/local/lib/python3.6/dist-packages (from np_utils) (1.18.5)\n",
            "Requirement already satisfied: future>=0.16 in /usr/local/lib/python3.6/dist-packages (from np_utils) (0.16.0)\n",
            "Collecting pygame\n",
            "\u001b[?25l  Downloading https://files.pythonhosted.org/packages/8e/24/ede6428359f913ed9cd1643dd5533aefeb5a2699cc95bea089de50ead586/pygame-1.9.6-cp36-cp36m-manylinux1_x86_64.whl (11.4MB)\n",
            "\u001b[K     |████████████████████████████████| 11.4MB 3.1MB/s \n",
            "\u001b[?25hInstalling collected packages: pygame\n",
            "Successfully installed pygame-1.9.6\n"
          ],
          "name": "stdout"
        }
      ]
    },
    {
      "cell_type": "code",
      "metadata": {
        "id": "riMqRtO9zmEP",
        "colab_type": "code",
        "colab": {
          "base_uri": "https://localhost:8080/",
          "height": 50
        },
        "outputId": "d0c771f2-eefb-4d51-cad0-635668a9aa53"
      },
      "source": [
        "import glob\n",
        "import pickle\n",
        "import numpy as np\n",
        "import pandas as pd\n",
        "from music21 import *\n",
        "from keras.models import Sequential\n",
        "from keras.layers import Dense\n",
        "from keras.layers import Dropout\n",
        "from keras.layers import LSTM, Bidirectional\n",
        "from keras.layers import Activation\n",
        "from keras.layers import BatchNormalization as BatchNorm\n",
        "from keras.utils import np_utils\n",
        "from keras.callbacks import ModelCheckpoint\n",
        "import tensorflow as tf"
      ],
      "execution_count": 22,
      "outputs": [
        {
          "output_type": "stream",
          "text": [
            "pygame 1.9.6\n",
            "Hello from the pygame community. https://www.pygame.org/contribute.html\n"
          ],
          "name": "stdout"
        }
      ]
    },
    {
      "cell_type": "code",
      "metadata": {
        "id": "Msmh7m8vzrQt",
        "colab_type": "code",
        "colab": {}
      },
      "source": [
        "notes = []\n",
        "for file in glob.glob(\"lofi-samples/samples/*.mid\"):\n",
        "    midi = converter.parse(file)\n",
        "    notes_to_parse = midi.flat.notes\n",
        "\n",
        "    for element in notes_to_parse:\n",
        "        if isinstance(element, note.Note):\n",
        "            notes.append(str(element.pitch))\n",
        "        elif isinstance(element, chord.Chord):\n",
        "            notes.append('.'.join(str(n) for n in element.normalOrder))"
      ],
      "execution_count": 23,
      "outputs": []
    },
    {
      "cell_type": "code",
      "metadata": {
        "id": "EUtX-6fE0Ugv",
        "colab_type": "code",
        "colab": {}
      },
      "source": [
        "sequence_length = 20\n",
        "\n",
        "pitchnames = sorted(set(item for item in notes))\n",
        "\n",
        "note_to_int = dict((note, number) for number, note in enumerate(pitchnames))\n",
        "network_output = []\n",
        "network_input = []\n",
        "\n",
        "for i in range(0, len(notes) - sequence_length, 1):\n",
        "    sequence_in = notes[i:i + sequence_length]\n",
        "    sequence_out = notes[i+sequence_length]\n",
        "    network_input.append([note_to_int[char] for char in sequence_in])\n",
        "    network_output.append(note_to_int[sequence_out])\n",
        "    n_patterns = len(network_input)\n",
        "\n",
        "network_input = np.reshape(network_input, (n_patterns, sequence_length, 1))\n",
        "n_vocab = len(set(notes))\n",
        "network_input = network_input / float(n_vocab)\n",
        "\n",
        "from keras.utils.np_utils import to_categorical\n",
        "try:\n",
        "    network_output = np_utils.to_categorical(network_output)\n",
        "except ValueError:\n",
        "    pass"
      ],
      "execution_count": 24,
      "outputs": []
    },
    {
      "cell_type": "code",
      "metadata": {
        "id": "L1oB7xRjH5mv",
        "colab_type": "code",
        "colab": {
          "base_uri": "https://localhost:8080/",
          "height": 706
        },
        "outputId": "6d2947c4-eb52-4edd-f33f-a282b882f4a6"
      },
      "source": [
        "model = Sequential()\n",
        "\n",
        "model.add(LSTM(256, input_shape=(network_input.shape[1], network_input.shape[2]), return_sequences=True))\n",
        "model.add(Dropout(0.2))\n",
        "model.add(LSTM(256, return_sequences=True))\n",
        "model.add(Dropout(0.2))\n",
        "model.add(LSTM(256, input_shape=(network_input.shape[1], network_input.shape[2]), return_sequences=False))\n",
        "model.add(Dropout(0.2))\n",
        "model.add(Dense(n_vocab))\n",
        "model.add(Activation('softmax'))\n",
        "model.compile(loss='categorical_crossentropy', optimizer='rmsprop')\n",
        "\n",
        "model.fit(network_input, network_output, epochs=20, batch_size=64)"
      ],
      "execution_count": 32,
      "outputs": [
        {
          "output_type": "stream",
          "text": [
            "Epoch 1/20\n",
            "25/25 [==============================] - 9s 342ms/step - loss: 5.2099\n",
            "Epoch 2/20\n",
            "25/25 [==============================] - 9s 344ms/step - loss: 5.1114\n",
            "Epoch 3/20\n",
            "25/25 [==============================] - 9s 350ms/step - loss: 5.0844\n",
            "Epoch 4/20\n",
            "25/25 [==============================] - 8s 335ms/step - loss: 5.0697\n",
            "Epoch 5/20\n",
            "25/25 [==============================] - 8s 335ms/step - loss: 5.0578\n",
            "Epoch 6/20\n",
            "25/25 [==============================] - 8s 336ms/step - loss: 5.0317\n",
            "Epoch 7/20\n",
            "25/25 [==============================] - 8s 337ms/step - loss: 4.9871\n",
            "Epoch 8/20\n",
            "25/25 [==============================] - 8s 336ms/step - loss: 4.9550\n",
            "Epoch 9/20\n",
            "25/25 [==============================] - 8s 337ms/step - loss: 4.9156\n",
            "Epoch 10/20\n",
            "25/25 [==============================] - 8s 333ms/step - loss: 4.8612\n",
            "Epoch 11/20\n",
            "25/25 [==============================] - 8s 337ms/step - loss: 4.8243\n",
            "Epoch 12/20\n",
            "25/25 [==============================] - 8s 335ms/step - loss: 4.7662\n",
            "Epoch 13/20\n",
            "25/25 [==============================] - 8s 335ms/step - loss: 4.7163\n",
            "Epoch 14/20\n",
            "25/25 [==============================] - 8s 335ms/step - loss: 4.6889\n",
            "Epoch 15/20\n",
            "25/25 [==============================] - 9s 342ms/step - loss: 4.6298\n",
            "Epoch 16/20\n",
            "25/25 [==============================] - 8s 335ms/step - loss: 4.6111\n",
            "Epoch 17/20\n",
            "25/25 [==============================] - 8s 339ms/step - loss: 4.5300\n",
            "Epoch 18/20\n",
            "25/25 [==============================] - 8s 336ms/step - loss: 4.4781\n",
            "Epoch 19/20\n",
            "25/25 [==============================] - 8s 337ms/step - loss: 4.4644\n",
            "Epoch 20/20\n",
            "25/25 [==============================] - 8s 336ms/step - loss: 4.3898\n"
          ],
          "name": "stdout"
        },
        {
          "output_type": "execute_result",
          "data": {
            "text/plain": [
              "<tensorflow.python.keras.callbacks.History at 0x7f88ccc36550>"
            ]
          },
          "metadata": {
            "tags": []
          },
          "execution_count": 32
        }
      ]
    },
    {
      "cell_type": "code",
      "metadata": {
        "id": "s8tNMhbEKyrT",
        "colab_type": "code",
        "colab": {}
      },
      "source": [
        "start = np.random.randint(0, len(network_input)-1)\n",
        "int_to_note = dict((number, note) for number, note in enumerate(pitchnames))\n",
        "\n",
        "pattern = network_input[start]\n",
        "prediction_output = []\n",
        "\n",
        "for note_index in range(100): \n",
        "    prediction_input = np.reshape(pattern, (1, len(pattern), 1))\n",
        "    prediction_input = prediction_input / float(n_vocab)    \n",
        "    prediction = model.predict(prediction_input, verbose=0)    \n",
        "    index = np.argmax(prediction)\n",
        "    result = int_to_note[index]\n",
        "\n",
        "    prediction_output.append(result)    \n",
        "\n",
        "    \n",
        "    pattern.ravel()\n",
        "    \n",
        "    patternbeta = np.append(pattern, [index])\n",
        "    \n",
        "    pattern = patternbeta[1:len(patternbeta)]\n",
        "    "
      ],
      "execution_count": 68,
      "outputs": []
    },
    {
      "cell_type": "code",
      "metadata": {
        "id": "FDlJ0u93LF0b",
        "colab_type": "code",
        "colab": {}
      },
      "source": [
        "offset = 0\n",
        "output_notes = []\n",
        "\n",
        "for pattern in prediction_output:\n",
        "    if('.' in pattern) or pattern.isdigit():\n",
        "        notes_in_chord = pattern.split('.')\n",
        "        notes = []\n",
        "        for current_note in notes_in_chord:\n",
        "            new_note = note.Note(int(current_note))\n",
        "            new_note.storedInstrument = instrument.Piano()\n",
        "            notes.append(new_note)\n",
        "        new_chord = chord.Chord(notes)\n",
        "        new_chord.offset = offset\n",
        "        output_notes.append(new_chord)\n",
        "    else:\n",
        "        new_note = note.Note(pattern)\n",
        "        new_note.offset = offset\n",
        "        new_note.storedInstrument = instrument.Piano()\n",
        "        output_notes.append(new_note)\n",
        "    offset += 0.5"
      ],
      "execution_count": 63,
      "outputs": []
    },
    {
      "cell_type": "code",
      "metadata": {
        "id": "9C8swDicPWR2",
        "colab_type": "code",
        "colab": {
          "base_uri": "https://localhost:8080/",
          "height": 34
        },
        "outputId": "c1d7a361-e829-49bc-f993-07d912666609"
      },
      "source": [
        "us = environment.UserSettings()\n",
        "us.getSettingsPath()"
      ],
      "execution_count": 64,
      "outputs": [
        {
          "output_type": "execute_result",
          "data": {
            "text/plain": [
              "PosixPath('/root/.music21rc')"
            ]
          },
          "metadata": {
            "tags": []
          },
          "execution_count": 64
        }
      ]
    },
    {
      "cell_type": "code",
      "metadata": {
        "id": "4FMUPr6oPY33",
        "colab_type": "code",
        "colab": {}
      },
      "source": [
        "s = stream.Stream(output_notes)\n",
        "mf = s.write('midi', fp=\"lofi-samples/testOutput.mid\")"
      ],
      "execution_count": 65,
      "outputs": []
    },
    {
      "cell_type": "code",
      "metadata": {
        "id": "b7NLzBPXcCVD",
        "colab_type": "code",
        "colab": {}
      },
      "source": [
        ""
      ],
      "execution_count": null,
      "outputs": []
    }
  ]
}